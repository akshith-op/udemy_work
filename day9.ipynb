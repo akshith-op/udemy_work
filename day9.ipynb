{
 "cells": [
  {
   "cell_type": "code",
   "execution_count": 5,
   "metadata": {},
   "outputs": [
    {
     "name": "stdout",
     "output_type": "stream",
     "text": [
      "5\n"
     ]
    }
   ],
   "source": [
    "class_dictionary = {'akshith':9,\n",
    "    'ashwath':5,\n",
    "    'suryaansh':'lkg',\n",
    "    'shivani':5\n",
    "}\n",
    "print(class_dictionary['ashwath'])"
   ]
  },
  {
   "cell_type": "code",
   "execution_count": 8,
   "metadata": {},
   "outputs": [
    {
     "name": "stdout",
     "output_type": "stream",
     "text": [
      "for i in class_dictionary\n",
      "{'akshith': 9, 'ashwath': 5, 'suryaansh': 'lkg', 'shivani': 5, 'loop': 'for i in class_dictionary'}\n"
     ]
    }
   ],
   "source": [
    "class_dictionary['loop'] = 'for i in class_dictionary'\n",
    "print(class_dictionary['loop'])\n",
    "print(class_dictionary)"
   ]
  },
  {
   "cell_type": "code",
   "execution_count": 10,
   "metadata": {},
   "outputs": [
    {
     "name": "stdout",
     "output_type": "stream",
     "text": [
      "akshith\n",
      "9\n",
      "ashwath\n",
      "5\n",
      "suryaansh\n",
      "lkg\n",
      "shivani\n",
      "5\n",
      "loop\n",
      "for i in class_dictionary\n"
     ]
    }
   ],
   "source": [
    "for thing in class_dictionary:\n",
    "    print(thing)\n",
    "    print(class_dictionary[thing])"
   ]
  },
  {
   "cell_type": "code",
   "execution_count": 16,
   "metadata": {},
   "outputs": [
    {
     "name": "stdout",
     "output_type": "stream",
     "text": [
      "{'Harry': 'Exceeds Expectations', 'Ron': 'Acceptable', 'Hermione': 'Outstanding', 'Draco': 'Acceptable', 'Neville': 'Fail'}\n"
     ]
    }
   ],
   "source": [
    "student_scores = {\n",
    "  \"Harry\": 81,\n",
    "  \"Ron\": 78,\n",
    "  \"Hermione\": 99, \n",
    "  \"Draco\": 74,\n",
    "  \"Neville\": 62,\n",
    "}\n",
    "student_grades = {}\n",
    "for keys in student_scores:\n",
    "    if student_scores[keys] >= 91:\n",
    "        student_grades[keys] = 'Outstanding'\n",
    "        \n",
    "    elif student_scores[keys] >= 81 and student_scores[keys] <=90:\n",
    "        student_grades[keys] = 'Exceeds Expectations'\n",
    "        \n",
    "    elif student_scores[keys] >= 71 and student_scores[keys] <=80:\n",
    "        student_grades[keys] = 'Acceptable'\n",
    "        \n",
    "    elif student_scores[keys] >= 0 and student_scores[keys] <=70:\n",
    "        student_grades[keys] = 'Fail'\n",
    "        \n",
    "print(student_grades)\n"
   ]
  },
  {
   "cell_type": "code",
   "execution_count": 34,
   "metadata": {},
   "outputs": [
    {
     "ename": "SyntaxError",
     "evalue": "invalid syntax (<ipython-input-34-d09b757a9103>, line 3)",
     "output_type": "error",
     "traceback": [
      "\u001b[0;36m  File \u001b[0;32m\"<ipython-input-34-d09b757a9103>\"\u001b[0;36m, line \u001b[0;32m3\u001b[0m\n\u001b[0;31m    'singapore',{'places_visited':['sentosa_island','marina_baysands','merlion','marina_flower_dome']:'total_places':5}\u001b[0m\n\u001b[0m              ^\u001b[0m\n\u001b[0;31mSyntaxError\u001b[0m\u001b[0;31m:\u001b[0m invalid syntax\n"
     ]
    }
   ],
   "source": [
    "travel_log = {\n",
    "    'france':{'places_visited':['eifel_tower','disney land','Fontainebleau','pullman'],'total_places':4}\n",
    "    'singapore':{'places_visited':['sentosa_island','marina_baysands','merlion','marina_flower_dome']:'total_places':5}\n",
    "    'indonasia':{'places_visited':['bintan','bali'],'total_places':2}\n",
    "    'switserland':{'places_visited':['jungfrau','titlis'],'total_places':2}\n",
    "}"
   ]
  },
  {
   "cell_type": "code",
   "execution_count": 38,
   "metadata": {},
   "outputs": [
    {
     "ename": "SyntaxError",
     "evalue": "invalid syntax (<ipython-input-38-0b5964753b2a>, line 3)",
     "output_type": "error",
     "traceback": [
      "\u001b[0;36m  File \u001b[0;32m\"<ipython-input-38-0b5964753b2a>\"\u001b[0;36m, line \u001b[0;32m3\u001b[0m\n\u001b[0;31m    {'country':'singapore','places_visited':['sentosa_island', 'marina_baysands', 'merlion', 'marina_flower_dome'],'total_places':5}\u001b[0m\n\u001b[0m    ^\u001b[0m\n\u001b[0;31mSyntaxError\u001b[0m\u001b[0;31m:\u001b[0m invalid syntax\n"
     ]
    }
   ],
   "source": [
    "travel_log = [\n",
    "    {'country':'france','places_visited':['eifel_tower','disney land','Fontainebleau','pullman'],'total_places':4}\n",
    "    {'country':'singapore','places_visited':['sentosa_island', 'marina_baysands', 'merlion', 'marina_flower_dome'],'total_places':5}\n",
    "    {'country':'indonasia','places_visited':['bintan','bali'],'total_places':2}\n",
    "    {'country':'switserland','places_visited':['jungfrau','titlis'],'total_places':2}\n",
    "]"
   ]
  },
  {
   "cell_type": "code",
   "execution_count": 44,
   "metadata": {},
   "outputs": [
    {
     "name": "stdout",
     "output_type": "stream",
     "text": [
      "[{'country': 'France', 'visits': 12, 'cities': ['Paris', 'Lille', 'Dijon']}, {'country': 'Germany', 'visits': 5, 'cities': ['Berlin', 'Hamburg', 'Stuttgart']}, {'country': 'Russia', 'visits': 2, 'cities': ['Moscow', 'Saint Petersburg']}]\n"
     ]
    }
   ],
   "source": [
    "travel_log = [\n",
    "{\n",
    "  \"country\": \"France\",\n",
    "  \"visits\": 12,\n",
    "  \"cities\": [\"Paris\", \"Lille\", \"Dijon\"]\n",
    "},\n",
    "{\n",
    "  \"country\": \"Germany\",\n",
    "  \"visits\": 5,\n",
    "  \"cities\": [\"Berlin\", \"Hamburg\", \"Stuttgart\"]\n",
    "},\n",
    "]\n",
    "#🚨 Do NOT change the code above\n",
    "\n",
    "#TODO: Write the function that will allow new countries\n",
    "#to be added to the travel_log. 👇\n",
    "def add_new_country(country,visits,cities):\n",
    "    new_country = {}\n",
    "    new_country['country'] = country\n",
    "    new_country['visits'] = visits\n",
    "    new_country['cities'] = cities\n",
    "    travel_log.append(new_country)\n",
    "    \n",
    "\n",
    "\n",
    "\n",
    "\n",
    "\n",
    "#🚨 Do not change the code below\n",
    "add_new_country(\"Russia\", 2, [\"Moscow\", \"Saint Petersburg\"])\n",
    "print(travel_log)\n",
    "\n",
    "\n",
    "\n"
   ]
  },
  {
   "cell_type": "code",
   "execution_count": 46,
   "metadata": {},
   "outputs": [
    {
     "name": "stdout",
     "output_type": "stream",
     "text": [
      "['Steak']\n"
     ]
    }
   ],
   "source": [
    "order = {\n",
    "    \"starter\": {1: \"Salad\", 2: \"Soup\"},\n",
    "    \"main\": {1: [\"Burger\", \"Fries\"], 2: [\"Steak\"]},\n",
    "    \"dessert\": {1: [\"Ice Cream\"], 2: []},\n",
    "}\n",
    "print(order['main'][2])"
   ]
  },
  {
   "cell_type": "code",
   "execution_count": 2,
   "metadata": {},
   "outputs": [
    {
     "name": "stdout",
     "output_type": "stream",
     "text": [
      "\n",
      "                         ___________\n",
      "                         \\         /\n",
      "                          )_______(\n",
      "                          |\"\"\"\"\"\"\"|_.-._,.---------.,_.-._\n",
      "                          |       | | |               | | ''-.\n",
      "                          |       |_| |_             _| |_..-'\n",
      "                          |_______| '-' `'---------'` '-'\n",
      "                          )\"\"\"\"\"\"\"(\n",
      "                         /_________\\\n",
      "                       .-------------.\n",
      "                      /_______________\\\n",
      "\n",
      "what is your name: akshith\n",
      "how much is your bid: 88.5\n",
      "Are there any other bidders? type \"yes\" or \"no\": yes\n",
      "what is your name: swapna\n",
      "how much is your bid: 78.782\n",
      "Are there any other bidders? type \"yes\" or \"no\": yes\n",
      "what is your name: keishna\n",
      "how much is your bid: 282\n",
      "Are there any other bidders? type \"yes\" or \"no\": no\n",
      "{'akshith': 88.5, 'swapna': 78.782, 'keishna': 282.0}\n",
      "282.0\n",
      "the highest bidder is keishna\n"
     ]
    }
   ],
   "source": [
    "logo = '''\n",
    "                         ___________\n",
    "                         \\         /\n",
    "                          )_______(\n",
    "                          |\"\"\"\"\"\"\"|_.-._,.---------.,_.-._\n",
    "                          |       | | |               | | ''-.\n",
    "                          |       |_| |_             _| |_..-'\n",
    "                          |_______| '-' `'---------'` '-'\n",
    "                          )\"\"\"\"\"\"\"(\n",
    "                         /_________\\\\\n",
    "                       .-------------.\n",
    "                      /_______________\\\\\n",
    "'''\n",
    "print(logo)\n",
    "bid_dict = {}\n",
    "\n",
    "more_member = True \n",
    "while more_member == True:\n",
    "    name = str(input('what is your name: '))\n",
    "    price = float(input('how much is your bid: '))\n",
    "    bid_dict[name] = price\n",
    "    should_continue = str(input('Are there any other bidders? type \"yes\" or \"no\": '))\n",
    "    if should_continue == 'yes':\n",
    "        pass\n",
    "        \n",
    "        \n",
    "    elif should_continue =='no':\n",
    "        more_member = False\n",
    "print(bid_dict)\n",
    "\n",
    "def highest_bid_finder(bid_dict):\n",
    "    winner = ''\n",
    "    highest_bid = 0\n",
    "    for bidders in bid_dict:\n",
    "        score = bid_dict[bidders]\n",
    "        if score > highest_bid:\n",
    "            highest_bid = score\n",
    "    winner= bidders  \n",
    "    print(highest_bid)\n",
    "    print(f'the highest bidder is {winner}')\n",
    "highest_bid_finder(bid_dict)\n",
    "  \n",
    "\n",
    "        "
   ]
  },
  {
   "cell_type": "code",
   "execution_count": null,
   "metadata": {},
   "outputs": [],
   "source": []
  },
  {
   "cell_type": "code",
   "execution_count": null,
   "metadata": {},
   "outputs": [],
   "source": []
  }
 ],
 "metadata": {
  "kernelspec": {
   "display_name": "Python 3",
   "language": "python",
   "name": "python3"
  },
  "language_info": {
   "codemirror_mode": {
    "name": "ipython",
    "version": 3
   },
   "file_extension": ".py",
   "mimetype": "text/x-python",
   "name": "python",
   "nbconvert_exporter": "python",
   "pygments_lexer": "ipython3",
   "version": "3.7.6"
  }
 },
 "nbformat": 4,
 "nbformat_minor": 4
}
