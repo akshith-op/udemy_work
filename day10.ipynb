{
 "cells": [
  {
   "cell_type": "code",
   "execution_count": null,
   "metadata": {},
   "outputs": [],
   "source": [
    "logo = \"\"\"\n",
    " _____________________\n",
    "|  _________________  |\n",
    "| | Pythonista   0. | |  .----------------.  .----------------.  .----------------.  .----------------. \n",
    "| |_________________| | | .--------------. || .--------------. || .--------------. || .--------------. |\n",
    "|  ___ ___ ___   ___  | | |     ______   | || |      __      | || |   _____      | || |     ______   | |\n",
    "| | 7 | 8 | 9 | | + | | | |   .' ___  |  | || |     /  \\     | || |  |_   _|     | || |   .' ___  |  | |\n",
    "| |___|___|___| |___| | | |  / .'   \\_|  | || |    / /\\ \\    | || |    | |       | || |  / .'   \\_|  | |\n",
    "| | 4 | 5 | 6 | | - | | | |  | |         | || |   / ____ \\   | || |    | |   _   | || |  | |         | |\n",
    "| |___|___|___| |___| | | |  \\ `.___.'\\  | || | _/ /    \\ \\_ | || |   _| |__/ |  | || |  \\ `.___.'\\  | |\n",
    "| | 1 | 2 | 3 | | x | | | |   `._____.'  | || ||____|  |____|| || |  |________|  | || |   `._____.'  | |\n",
    "| |___|___|___| |___| | | |              | || |              | || |              | || |              | |\n",
    "| | . | 0 | = | | / | | | '--------------' || '--------------' || '--------------' || '--------------' |\n",
    "| |___|___|___| |___| |  '----------------'  '----------------'  '----------------'  '----------------' \n",
    "|_____________________|\n",
    "\"\"\"\n",
    "\n",
    "def main_function():\n",
    "    print(logo)\n",
    "    is_continue = True \n",
    "    f_no = float(input(\"what's the first number: \"))\n",
    "    while is_continue == True:\n",
    "        print('+\\n-\\n/\\n*\\n')\n",
    "        operation = input(\"pick an operation: \")\n",
    "        s_no = float(input(\"what's the second number: \"))\n",
    "        def add(f_no,s_no):\n",
    "            return f_no+s_no\n",
    "\n",
    "        def multiply(f_no,s_no):\n",
    "            return f_no*s_no \n",
    "\n",
    "        def subtract(f_no,s_no):\n",
    "            return f_no-s_no\n",
    "\n",
    "        def divide(f_no,s_no):\n",
    "            return f_no/s_no\n",
    "        op_dict = {\n",
    "        '+' : add,\n",
    "        '-' : subtract,\n",
    "        '*' : multiply,\n",
    "        '/' : divide\n",
    "\n",
    "\n",
    "        }\n",
    "        for operator in op_dict:\n",
    "            if operator == operation:\n",
    "                symbol = operator\n",
    "                functions = op_dict[operator]\n",
    "        answer = functions(f_no,s_no)\n",
    "        print(answer)\n",
    "        print(f'{f_no} {symbol} {s_no} = {answer}')\n",
    "        again = input(f\"'y' to continue calculating with {answer}, or type 'n' to start a new calculation or 'c' to close: \")\n",
    "        if again == 'y':\n",
    "            f_no = answer\n",
    "        elif again == 'n':\n",
    "            main_function()\n",
    "\n",
    "        elif again == 'c':\n",
    "            print('Thank you')\n",
    "            break\n",
    "            \n",
    "main_function()\n",
    "\n",
    "\n"
   ]
  },
  {
   "cell_type": "code",
   "execution_count": 5,
   "metadata": {},
   "outputs": [
    {
     "name": "stdout",
     "output_type": "stream",
     "text": [
      "+\n",
      "-\n",
      "/\n",
      "*\n",
      "\n"
     ]
    }
   ],
   "source": [
    "print('+\\n-\\n/\\n*\\n')\n",
    "\n"
   ]
  },
  {
   "cell_type": "code",
   "execution_count": 11,
   "metadata": {},
   "outputs": [
    {
     "ename": "SyntaxError",
     "evalue": "invalid syntax (<ipython-input-11-6e979a5e00b8>, line 6)",
     "output_type": "error",
     "traceback": [
      "\u001b[0;36m  File \u001b[0;32m\"<ipython-input-11-6e979a5e00b8>\"\u001b[0;36m, line \u001b[0;32m6\u001b[0m\n\u001b[0;31m    strings.each (string symbols.push(string.to_sym) )\u001b[0m\n\u001b[0m                               ^\u001b[0m\n\u001b[0;31mSyntaxError\u001b[0m\u001b[0;31m:\u001b[0m invalid syntax\n"
     ]
    }
   ],
   "source": [
    "strings = [\"HTML\", \"CSS\", \"JavaScript\", \"Python\", \"Ruby\"]\n",
    "\n",
    "# Add your code below!\n",
    "symbols = []\n",
    "\n",
    "strings.each (string symbols.push(string.to_sym) )\n",
    "\n"
   ]
  },
  {
   "cell_type": "code",
   "execution_count": 19,
   "metadata": {},
   "outputs": [
    {
     "data": {
      "text/plain": [
       "6"
      ]
     },
     "execution_count": 19,
     "metadata": {},
     "output_type": "execute_result"
    }
   ],
   "source": [
    "def hs():\n",
    "    result = 3*2\n",
    "    return result\n",
    "hs()\n",
    "\n"
   ]
  },
  {
   "cell_type": "code",
   "execution_count": 32,
   "metadata": {},
   "outputs": [
    {
     "name": "stdout",
     "output_type": "stream",
     "text": [
      "please enter your first name: ashwath\n",
      "please enter your last name: ashwath\n"
     ]
    },
    {
     "data": {
      "text/plain": [
       "'Ashwath Ashwath'"
      ]
     },
     "execution_count": 32,
     "metadata": {},
     "output_type": "execute_result"
    }
   ],
   "source": [
    "def format_name(first_name,last_name):\n",
    "    a = first_name.title()\n",
    "    b = last_name.title()\n",
    "    result = a+' '+b\n",
    "    return result\n",
    "first_name = str(input('please enter your first name: '))\n",
    "last_name = str(input('please enter your last name: '))\n",
    "format_name(first_name,last_name)\n",
    "\n",
    "\n",
    "        "
   ]
  },
  {
   "cell_type": "code",
   "execution_count": 29,
   "metadata": {},
   "outputs": [
    {
     "name": "stdout",
     "output_type": "stream",
     "text": [
      "Akshith Isola\n",
      "Akshith\n"
     ]
    }
   ],
   "source": [
    "first_name = 'akshith'\n",
    "last_name = 'isola'\n",
    "a = first_name.title()\n",
    "b = last_name.title()\n",
    "result = a+' '+b\n",
    "print(result)\n",
    "print(a)\n",
    "\n"
   ]
  },
  {
   "cell_type": "code",
   "execution_count": null,
   "metadata": {},
   "outputs": [],
   "source": [
    "def is_leap(year):\n",
    "    if year % 4 == 0:\n",
    "        if year % 100 == 0:\n",
    "            if year % 400 == 0:\n",
    "                return True\n",
    "            else:\n",
    "                return False\n",
    "        else:\n",
    "            return True\n",
    "    else:\n",
    "        return False\n",
    "\n",
    "def days_in_month(year,month):\n",
    "    \"\"\"tell's us how many days are there in a month in a particular year\"\"\"\n",
    "    if month < 1 or month > 12:\n",
    "        return f\"it's an invalid input\"\n",
    "    month_days = [31, 28, 31, 30, 31, 30, 31, 31, 30, 31, 30, 31] \n",
    "    year = is_leap(year)\n",
    "    if year == True and month == 2:\n",
    "        days =  month_days[month-1]\n",
    "        days+=1\n",
    "        return days\n",
    "    else:\n",
    "        return month_days[month-1]\n",
    "        \n",
    "    \n",
    "    \n",
    "  \n",
    "  \n",
    "year = int(input(\"Enter a year: \"))\n",
    "month = int(input(\"Enter a month: \"))\n",
    "days = days_in_month(year, month)\n",
    "print(days)\n",
    "\n",
    "\n",
    "\n",
    "\n",
    "\n",
    "\n",
    "\n",
    "\n",
    "\n",
    "\n",
    "\n",
    "\n",
    "\n"
   ]
  },
  {
   "cell_type": "code",
   "execution_count": 1,
   "metadata": {},
   "outputs": [
    {
     "name": "stdout",
     "output_type": "stream",
     "text": [
      "12.0\n"
     ]
    }
   ],
   "source": [
    "def add(n1, n2):\n",
    "  return n1 + n2\n",
    " \n",
    "def subtract(n1, n2):\n",
    "  return n1 - n2\n",
    " \n",
    "def multiply(n1, n2):\n",
    "  return n1 * n2\n",
    " \n",
    "def divide(n1, n2):\n",
    "  return n1 / n2\n",
    " \n",
    "print(add(2, multiply(5, divide(8, 4))))"
   ]
  },
  {
   "cell_type": "code",
   "execution_count": 2,
   "metadata": {},
   "outputs": [
    {
     "name": "stdout",
     "output_type": "stream",
     "text": [
      "15\n"
     ]
    }
   ],
   "source": [
    "def outer_function(a, b):\n",
    "    def inner_function(c, d):\n",
    "        return c + d\n",
    "    return inner_function(a, b)\n",
    " \n",
    "result = outer_function(5, 10)\n",
    "print(result)"
   ]
  },
  {
   "cell_type": "code",
   "execution_count": null,
   "metadata": {},
   "outputs": [],
   "source": [
    "from datetime import datetime\n",
    "\n",
    "def quick_sort(arr):\n",
    "    if len(arr) < 2:\n",
    "        return arr\n",
    "    else:\n",
    "        pivot = arr[-1]\n",
    "        small = []\n",
    "        large = []\n",
    "        equal = []\n",
    "        for i in arr:\n",
    "            if i < pivot:\n",
    "                small.append(i)\n",
    "            elif i == pivot:\n",
    "                equal.append(i)\n",
    "            else:\n",
    "                large.append(i)\n",
    "                # print(small)\n",
    "    return quick_sort(small)+equal+quick_sort(large)\n",
    "\n",
    "arr = [4,324,324,32432,4,325,243,43,5,43,6534,6,3546,543,6543,654,6]\n",
    "print('Array Length =', len(arr))\n",
    "\n",
    "# current date and time\n",
    "before = datetime.now()\n",
    "print(before)\n",
    "print(quick_sort(arr))\n",
    "after = datetime.now()\n",
    "print('Quick Sort Execution Time -', (after - before))\n"
   ]
  },
  {
   "cell_type": "code",
   "execution_count": 17,
   "metadata": {},
   "outputs": [
    {
     "name": "stdout",
     "output_type": "stream",
     "text": [
      "these are your cards[8, 2]\n",
      "thes is computer's card 11\n",
      "Type 'y' to get another card, type 'n' to pass: n\n",
      "28\n",
      "you win, computers cards went over 21\n"
     ]
    }
   ],
   "source": [
    "import random\n",
    "cards = [11,2,3,4,5,6,7,8,9,10,10,10,10]\n",
    "user = []\n",
    "computer = []\n",
    "\n",
    "\n",
    "\n",
    "def start_cards(array):\n",
    "    for i in range(2):\n",
    "        hit_card = random.choice(cards)\n",
    "        array.append(hit_card)\n",
    "    return array\n",
    "user_start_cards = start_cards(user)\n",
    "computer_start_cards = start_cards(computer)\n",
    "print(f'these are your cards{user_start_cards}')\n",
    "print(f\"thes is computer's card {computer_start_cards[0]}\")\n",
    "\n",
    "\n",
    "        \n",
    "\n",
    "    \n",
    "    \n",
    "    \n",
    "def ask_card(array):\n",
    "    hit_card = random.choice(cards)\n",
    "    if hit_card == 11 and sum(array)+11 <=21:\n",
    "        array.append(hit_card)\n",
    "    elif hit_card == 11 and sum(array)+11 > 21:\n",
    "        array.append(1)\n",
    "    else:\n",
    "        array.append(hit_card)\n",
    "    return array\n",
    "    \n",
    "                \n",
    "                \n",
    "    \n",
    "    \n",
    "def compare(user_sum,computer_sum):\n",
    "    \n",
    "    if user_sum == 21:\n",
    "        return 'you win, you got a black_jack'\n",
    "\n",
    "    elif user_sum == computer_sum:\n",
    "        return 'draw' \n",
    "\n",
    "    elif computer_sum == 21:\n",
    "        return 'you lose computer got a black_jack'\n",
    "\n",
    "    elif user_sum > 21:\n",
    "        return 'you lose, your cards went over 21'\n",
    "\n",
    "    elif computer_sum > 21:\n",
    "        return 'you win, computers cards went over 21'\n",
    "    elif user_sum > 21 and computer_sum > 21:\n",
    "        \n",
    "        return 'you lose , bot cards went over 21'\n",
    "\n",
    "    \n",
    "    \n",
    "        \n",
    "    \n",
    "\n",
    "    \n",
    "\n",
    "\n",
    "hit = str(input(\"Type 'y' to get another card, type 'n' to pass: \"))\n",
    "if hit == 'y':\n",
    "    ask_card(user)\n",
    "    all_user_cards = ask_card(user)\n",
    "    print(all_cards)\n",
    "elif hit == 'n':\n",
    "    ask_card(computer)\n",
    "    all_computer_cards = ask_card(computer)\n",
    "\n",
    "\n",
    "\n",
    "user_score = sum(user)\n",
    "computer_score = sum(computer)\n",
    "if computer_score < 16:\n",
    "    ask_card(computer)\n",
    "\n",
    "\n",
    "result = compare(user_score,computer_score)\n",
    "print(computer_score)\n",
    "print(result)"
   ]
  },
  {
   "cell_type": "code",
   "execution_count": 6,
   "metadata": {},
   "outputs": [
    {
     "ename": "TypeError",
     "evalue": "choice() takes 2 positional arguments but 3 were given",
     "output_type": "error",
     "traceback": [
      "\u001b[0;31m---------------------------------------------------------------------------\u001b[0m",
      "\u001b[0;31mTypeError\u001b[0m                                 Traceback (most recent call last)",
      "\u001b[0;32m<ipython-input-6-5f60ef6a7801>\u001b[0m in \u001b[0;36m<module>\u001b[0;34m\u001b[0m\n\u001b[1;32m      1\u001b[0m \u001b[0;32mimport\u001b[0m \u001b[0mrandom\u001b[0m\u001b[0;34m\u001b[0m\u001b[0;34m\u001b[0m\u001b[0m\n\u001b[1;32m      2\u001b[0m \u001b[0mcards\u001b[0m \u001b[0;34m=\u001b[0m \u001b[0;34m[\u001b[0m\u001b[0;36m11\u001b[0m\u001b[0;34m,\u001b[0m\u001b[0;36m2\u001b[0m\u001b[0;34m,\u001b[0m\u001b[0;36m3\u001b[0m\u001b[0;34m,\u001b[0m\u001b[0;36m4\u001b[0m\u001b[0;34m,\u001b[0m\u001b[0;36m5\u001b[0m\u001b[0;34m,\u001b[0m\u001b[0;36m6\u001b[0m\u001b[0;34m,\u001b[0m\u001b[0;36m7\u001b[0m\u001b[0;34m,\u001b[0m\u001b[0;36m8\u001b[0m\u001b[0;34m,\u001b[0m\u001b[0;36m9\u001b[0m\u001b[0;34m,\u001b[0m\u001b[0;36m10\u001b[0m\u001b[0;34m,\u001b[0m\u001b[0;36m10\u001b[0m\u001b[0;34m,\u001b[0m\u001b[0;36m10\u001b[0m\u001b[0;34m,\u001b[0m\u001b[0;36m10\u001b[0m\u001b[0;34m]\u001b[0m\u001b[0;34m\u001b[0m\u001b[0;34m\u001b[0m\u001b[0m\n\u001b[0;32m----> 3\u001b[0;31m \u001b[0ma\u001b[0m \u001b[0;34m=\u001b[0m \u001b[0mrandom\u001b[0m\u001b[0;34m.\u001b[0m\u001b[0mchoice\u001b[0m\u001b[0;34m(\u001b[0m\u001b[0mcards\u001b[0m\u001b[0;34m,\u001b[0m\u001b[0;36m2\u001b[0m\u001b[0;34m)\u001b[0m\u001b[0;34m\u001b[0m\u001b[0;34m\u001b[0m\u001b[0m\n\u001b[0m\u001b[1;32m      4\u001b[0m \u001b[0mprint\u001b[0m\u001b[0;34m(\u001b[0m\u001b[0ma\u001b[0m\u001b[0;34m)\u001b[0m\u001b[0;34m\u001b[0m\u001b[0;34m\u001b[0m\u001b[0m\n\u001b[1;32m      5\u001b[0m \u001b[0;34m\u001b[0m\u001b[0m\n",
      "\u001b[0;31mTypeError\u001b[0m: choice() takes 2 positional arguments but 3 were given"
     ]
    }
   ],
   "source": [
    "import random\n",
    "cards = [11,2,3,4,5,6,7,8,9,10,10,10,10]\n",
    "a = random.choice(cards,2)\n",
    "print(a)\n",
    "\n"
   ]
  },
  {
   "cell_type": "code",
   "execution_count": null,
   "metadata": {},
   "outputs": [],
   "source": []
  },
  {
   "cell_type": "code",
   "execution_count": 10,
   "metadata": {},
   "outputs": [
    {
     "data": {
      "text/plain": [
       "106"
      ]
     },
     "execution_count": 10,
     "metadata": {},
     "output_type": "execute_result"
    }
   ],
   "source": [
    "cards = [11,2,3,4,5,6,7,8,9,10,10,10,10]\n",
    "sum(cards)+11\n",
    "\n"
   ]
  },
  {
   "cell_type": "code",
   "execution_count": null,
   "metadata": {},
   "outputs": [],
   "source": []
  }
 ],
 "metadata": {
  "kernelspec": {
   "display_name": "Python 3",
   "language": "python",
   "name": "python3"
  },
  "language_info": {
   "codemirror_mode": {
    "name": "ipython",
    "version": 3
   },
   "file_extension": ".py",
   "mimetype": "text/x-python",
   "name": "python",
   "nbconvert_exporter": "python",
   "pygments_lexer": "ipython3",
   "version": "3.7.6"
  }
 },
 "nbformat": 4,
 "nbformat_minor": 4
}
