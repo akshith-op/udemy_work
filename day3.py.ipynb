{
 "cells": [
  {
   "cell_type": "code",
   "execution_count": 1,
   "metadata": {},
   "outputs": [
    {
     "name": "stdout",
     "output_type": "stream",
     "text": [
      "aks\n"
     ]
    }
   ],
   "source": [
    "print('aks')"
   ]
  },
  {
   "cell_type": "code",
   "execution_count": 1,
   "metadata": {},
   "outputs": [
    {
     "name": "stdout",
     "output_type": "stream",
     "text": [
      "please enter your height in cm: \n",
      "\n",
      "123\n",
      "please enter your age: \n",
      "\n",
      "14\n",
      "do you want photos, please say yes or no \n",
      "yes\n",
      "please enter your age: \n",
      "\n",
      "14\n",
      "you can go to the ride\n",
      "\n",
      "Please pay 7$\n",
      "Please pay 3$\n"
     ]
    }
   ],
   "source": [
    "\n",
    "# Method-1\n",
    "height = int(input('please enter your height in cm: \\n\\n'))\n",
    "age = int(input('please enter your age: \\n\\n'))\n",
    "photos = str(input('do you want photos, please say yes or no \\n'))\n",
    "\n",
    "\n",
    "\n",
    "\n",
    "if height >= 120:\n",
    "    age = int(input('please enter your age: \\n\\n'))\n",
    "    print('you can go to the ride')\n",
    "    print()\n",
    "    if age < 18:\n",
    "        if age < 7:\n",
    "            print('Please pay 5$')\n",
    "        else:\n",
    "            print('Please pay 7$')\n",
    "    else:\n",
    "        print('Please pay 12$')\n",
    "    if photos == 'yes':\n",
    "        print('Please pay 3$')\n",
    "    else:\n",
    "        print(\"Thank you sir/ma'am\")\n",
    "else:\n",
    "    print('low height')\n"
   ]
  },
  {
   "cell_type": "code",
   "execution_count": 2,
   "metadata": {},
   "outputs": [
    {
     "name": "stdout",
     "output_type": "stream",
     "text": [
      "please enter your height in cm: \n",
      "\n",
      "123\n",
      "do you want photo? Y or N \n",
      "\n",
      "Y\n",
      "please enter your age: \n",
      "\n",
      "14\n",
      "you can go to the ride\n",
      "\n",
      "your total bill is 10$\n"
     ]
    }
   ],
   "source": [
    "\n",
    "# Method-2\n",
    "height = int(input('please enter your height in cm: \\n\\n'))\n",
    "#age = int(input('please enter your age: \\n\\n'))\n",
    "wants_photo = str(input('do you want photo? Y or N \\n\\n'))\n",
    "\n",
    "\n",
    "bill = 0\n",
    "\n",
    "\n",
    "\n",
    "\n",
    "if height >= 120:\n",
    "    age = int(input('please enter your age: \\n\\n'))\n",
    "    print('you can go to the ride')\n",
    "    print()\n",
    "    if age <= 18:\n",
    "        bill+=7\n",
    "    elif age < 7:\n",
    "        bill+=5\n",
    "    else:\n",
    "        bill+=12\n",
    "    if wants_photo == 'Y':\n",
    "        bill+=3\n",
    "        print(f'your total bill is {bill}$')\n",
    "    else:\n",
    "        print(f'your total bill is {bill}$')\n",
    "else:\n",
    "    print('low height')\n",
    "\n"
   ]
  },
  {
   "cell_type": "code",
   "execution_count": 15,
   "metadata": {},
   "outputs": [
    {
     "name": "stdout",
     "output_type": "stream",
     "text": [
      "pls enter a number\n",
      "\n",
      "234\n",
      "the number 234 is a even number\n"
     ]
    }
   ],
   "source": [
    "number = int(input('pls enter a number\\n\\n'))\n",
    "if number % 2 == 0:\n",
    "    print(f'the number {number} is a even number')\n",
    "else:\n",
    "    print(f' the number {number} is a odd number')"
   ]
  },
  {
   "cell_type": "code",
   "execution_count": 16,
   "metadata": {},
   "outputs": [],
   "source": [
    "#  Above 35 they are clinically obese.Under 18.5 they are underweight\n",
    "# - Over 18.5 but below 25 they have a normal weight\n",
    "# - Over 25 but below 30 they are slightly overweight\n",
    "# - Over 30 but below 35 they are obese"
   ]
  },
  {
   "cell_type": "code",
   "execution_count": 25,
   "metadata": {},
   "outputs": [
    {
     "name": "stdout",
     "output_type": "stream",
     "text": [
      "Please enter your height in feet: \n",
      "\n",
      "1.7\n",
      "please enter your weight in kg: \n",
      "\n",
      "56\n",
      "please enter your name: \n",
      "\n",
      "Akshith\n",
      "Akshith your BMI is 19.377162629757787, you are normal\n"
     ]
    }
   ],
   "source": [
    "def bmi_2_0(Height,Weight,Name):\n",
    "    bmi =  Weight / (Height**2)\n",
    "    \n",
    "    if bmi > 18.5 and bmi < 25:\n",
    "        print(f'{Name} your BMI is {bmi}, you are normal')\n",
    "        \n",
    "    elif bmi > 25 and bmi < 30:\n",
    "        print(f'{Name} your BMI is {bmi}, you are slightly overweight')\n",
    "        \n",
    "    elif bmi > 30 and bmi < 35:\n",
    "            print(f'{Name} your BMI is {bmi}, you are obese')\n",
    "            \n",
    "    elif bmi > 35:\n",
    "        print(f'{Name} your BMI is {bmi}, you are clinically obese')\n",
    "        \n",
    "    else:\n",
    "        print(f' {Name} your BMI is {bmi}, you are underweight')\n",
    "\n",
    "\n",
    "        \n",
    "\n",
    "\n",
    "\n",
    "\n",
    "\n",
    "Height = float(input('Please enter your height in feet: \\n\\n'))\n",
    "Weight = int(input('please enter your weight in kg: \\n\\n'))\n",
    "Name = str(input('please enter your name: \\n\\n'))\n",
    "bmi_2_0(Height,Weight,Name)\n"
   ]
  },
  {
   "cell_type": "code",
   "execution_count": 10,
   "metadata": {},
   "outputs": [
    {
     "name": "stdout",
     "output_type": "stream",
     "text": [
      "Which year do you want to check? \n",
      "200\n",
      "200 is not a leap year\n"
     ]
    }
   ],
   "source": [
    "def leap_year_finder(year):\n",
    "    \n",
    "    if year % 4 == 0:\n",
    "        if year % 100 == 0:\n",
    "            if year % 400 == 0:\n",
    "                print(f'{year} is a leap year')\n",
    "            else:\n",
    "                print(f'{year} is not a leap year')\n",
    "        else:\n",
    "            print(f'{year} is a leap year')\n",
    "    else:\n",
    "        print(f'{year} is not a leap year')\n",
    "        \n",
    "year = int(input('Which year do you want to check? \\n'))\n",
    "leap_year_finder(year)\n"
   ]
  },
  {
   "cell_type": "code",
   "execution_count": null,
   "metadata": {},
   "outputs": [
    {
     "name": "stdout",
     "output_type": "stream",
     "text": [
      "Welcome to Python Pizza Deliveries!\n",
      "What size pizza do you want? S, M, or L: M\n"
     ]
    }
   ],
   "source": [
    "print(\"Welcome to Python Pizza Deliveries!\")\n",
    "size = input(\"What size pizza do you want? S, M, or L: \")\n",
    "add_pepperoni = input(\"Do you want pepperoni? Y or N \")\n",
    "extra_cheese = input(\"Do you want extra cheese? Y or N \")\n",
    "total_bill = 0\n",
    "if size == 'L':\n",
    "    total_bill+=25\n",
    "    if add_pepperoni == 'Y':\n",
    "        total_bill += 3\n",
    "        if extra_cheese == 'Y':\n",
    "            total_bill +=1\n",
    "\n",
    "\n",
    "        \n",
    "elif size == 'M':\n",
    "    total_bill += 20\n",
    "    if add_pepperoni == 'Y':\n",
    "        total_bill += 3\n",
    "        if extra_cheese == 'Y':\n",
    "            total_bill +=1\n",
    "            \n",
    "else:\n",
    "    total_bill += 15\n",
    "    if add_pepperoni == 'Y':\n",
    "        total_bill += 2\n",
    "        if extra_cheese == 'Y':\n",
    "            total_bill +=1\n",
    "print(total_bill)\n",
    "\n",
    "\n",
    "\n",
    "    \n",
    "    \n",
    "        \n",
    "\n",
    "\n",
    "        \n",
    "        \n",
    "    "
   ]
  },
  {
   "cell_type": "code",
   "execution_count": 9,
   "metadata": {},
   "outputs": [
    {
     "name": "stdout",
     "output_type": "stream",
     "text": [
      "Welcome to treasure island \n",
      " your misssion is to find the treasure chest\n",
      "Your at cross road. Where would you go? type \"L\" for left or \"R\" for right: L\n",
      "you have came to a lake. there is an island in the middle  of the lake.\n",
      " type \"wait\" to wait for a boat or type \"swim\" to swim to the island  swim\n",
      "swim\n",
      "there a three doors type blue, yellow, redblure\n"
     ]
    }
   ],
   "source": [
    "print('Welcome to treasure island \\n your misssion is to find the treasure chest')\n",
    "road = str(input('Your at cross road. Where would you go? type \"L\" for left or \"R\" for right: '))\n",
    "\n",
    "if road == 'L':\n",
    "    lake = str(input('you have came to a lake. there is an island in the middle  of the lake.\\n type \"wait\" to wait for a boat or type \"swim\" to swim to the island  '))\n",
    "    print(lake)\n",
    "    if lake == 'wait':\n",
    "        print('attacked by trout\\n \"Game over\"')\n",
    "    else:\n",
    "        door = str(input('there a three doors type blue, yellow, red'))\n",
    "        if door == 'red':\n",
    "            print('burned by fire \\n \"Game over\"')\n",
    "        elif door == 'yellow':\n",
    "            print('eaten by beasts \\n \"Game over\"')\n",
    "        elif door == 'blue':\n",
    "            print('you won \"huraaayyyyyyy!!!!!!\"')\n",
    "            \n",
    "            \n",
    "            \n",
    "        \n",
    "else:\n",
    "    print('you fell into an hole \\n \"Game over\"')\n",
    "    "
   ]
  },
  {
   "cell_type": "code",
   "execution_count": 1,
   "metadata": {},
   "outputs": [],
   "source": [
    "dk = 453456.5324"
   ]
  },
  {
   "cell_type": "code",
   "execution_count": null,
   "metadata": {},
   "outputs": [],
   "source": []
  }
 ],
 "metadata": {
  "kernelspec": {
   "display_name": "Python 3",
   "language": "python",
   "name": "python3"
  },
  "language_info": {
   "codemirror_mode": {
    "name": "ipython",
    "version": 3
   },
   "file_extension": ".py",
   "mimetype": "text/x-python",
   "name": "python",
   "nbconvert_exporter": "python",
   "pygments_lexer": "ipython3",
   "version": "3.7.6"
  }
 },
 "nbformat": 4,
 "nbformat_minor": 4
}
