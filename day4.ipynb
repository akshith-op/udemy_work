{
 "cells": [
  {
   "cell_type": "code",
   "execution_count": 2,
   "metadata": {},
   "outputs": [],
   "source": [
    "import random\n"
   ]
  },
  {
   "cell_type": "code",
   "execution_count": 23,
   "metadata": {},
   "outputs": [
    {
     "name": "stdout",
     "output_type": "stream",
     "text": [
      "5\n",
      "4\n",
      "9\n",
      "4\n",
      "2\n",
      "8\n",
      "6\n",
      "1\n",
      "6\n",
      "8\n",
      "1\n",
      "4\n",
      "5\n",
      "9\n",
      "5\n",
      "2\n",
      "9\n",
      "10\n"
     ]
    }
   ],
   "source": [
    "while random_integer != 10:\n",
    "    random_integer = random.randint(1,10)\n",
    "    print(random_integer)"
   ]
  },
  {
   "cell_type": "code",
   "execution_count": 10,
   "metadata": {},
   "outputs": [
    {
     "name": "stdout",
     "output_type": "stream",
     "text": [
      "428.3938861129122\n",
      "530.2459202912464\n",
      "3.9315740632125906\n",
      "498.772799888084\n",
      "447.8562006491611\n",
      "499.41035269133124\n",
      "170.95513312938357\n",
      "510.3775742359273\n",
      "104.81629014327338\n",
      "3.9441190879078802\n"
     ]
    }
   ],
   "source": [
    "# random_float = random.random()\n",
    "i = 0\n",
    "\n",
    "\n",
    "while i != 10:\n",
    "    random_float = random.random()\n",
    "    print(random_float*590)\n",
    "    i+=1"
   ]
  },
  {
   "cell_type": "code",
   "execution_count": 23,
   "metadata": {},
   "outputs": [
    {
     "name": "stdout",
     "output_type": "stream",
     "text": [
      "your iq score is 96\n"
     ]
    }
   ],
   "source": [
    "iq = random.randint(1,100)\n",
    "temp = False\n",
    "\n",
    "\n",
    "while temp != True:\n",
    "    iq = random.randint(1,100)\n",
    "\n",
    "\n",
    "    temp = False\n",
    "    if iq > 95:\n",
    "        temp = True\n",
    "        print(f'your iq score is {iq}')"
   ]
  },
  {
   "cell_type": "code",
   "execution_count": 1,
   "metadata": {},
   "outputs": [
    {
     "name": "stdout",
     "output_type": "stream",
     "text": [
      "Heads\n"
     ]
    }
   ],
   "source": [
    "import random\n",
    "toss = random.randint(0,1)\n",
    "if toss == 0:\n",
    "    print('Tails')\n",
    "else:\n",
    "    print('Heads')\n"
   ]
  },
  {
   "cell_type": "code",
   "execution_count": 37,
   "metadata": {},
   "outputs": [
    {
     "name": "stdout",
     "output_type": "stream",
     "text": [
      "['Telengana', 'Tamil nadu', 'Kerala', 'Maharastra', 'Gujarat', 'Delhi', 'Telengana', 'Kashmir', 'Andhra']\n"
     ]
    }
   ],
   "source": [
    "si = ['Telengana','Tamil nadu','Kerala','Maharastra','Gujarat','Delhi','Telengana','Kashmir','Andhra']\n",
    "print(si)"
   ]
  },
  {
   "cell_type": "code",
   "execution_count": 13,
   "metadata": {},
   "outputs": [
    {
     "name": "stdout",
     "output_type": "stream",
     "text": [
      "['Telengana', 'Jharkhand', 'Jharkhand', 'Tamil nadu', 'Kerala', 'Maharastra', 'Gujarat', 'Delhi', 'Kashmir', 'Uttar pradesh', 'Kashmir', 'Uttar pradesh', ['Kashmir', 'Uttar pradesh'], 'Kashmir', 'Uttar pradesh', 'Kashmir', 'Uttar pradesh']\n"
     ]
    }
   ],
   "source": [
    "si.extend(['Kashmir','Uttar pradesh'])\n",
    "print(si)"
   ]
  },
  {
   "cell_type": "code",
   "execution_count": 11,
   "metadata": {},
   "outputs": [
    {
     "name": "stdout",
     "output_type": "stream",
     "text": [
      "['Telengana', 'Jharkhand', 'Jharkhand', 'Tamil nadu', 'Kerala', 'Maharastra', 'Gujarat', 'Delhi', 'Kashmir', 'Uttar pradesh', 'Kashmir', 'Uttar pradesh', ['Kashmir', 'Uttar pradesh'], 'Kashmir', 'Uttar pradesh']\n"
     ]
    }
   ],
   "source": [
    "si.insert(1,'Jharkhand')\n",
    "print(si)"
   ]
  },
  {
   "cell_type": "code",
   "execution_count": 15,
   "metadata": {},
   "outputs": [
    {
     "name": "stdout",
     "output_type": "stream",
     "text": [
      "['Telengana', 'Jharkhand', 'Jharkhand', 'Tamil nadu', 'Gujarat', 'Delhi', 'Kashmir', 'Uttar pradesh', 'Kashmir', 'Uttar pradesh', ['Kashmir', 'Uttar pradesh'], 'Kashmir', 'Uttar pradesh', 'Kashmir', 'Uttar pradesh']\n"
     ]
    }
   ],
   "source": [
    "si.remove(si[4])\n",
    "print(si)"
   ]
  },
  {
   "cell_type": "code",
   "execution_count": 19,
   "metadata": {},
   "outputs": [
    {
     "name": "stdout",
     "output_type": "stream",
     "text": [
      "['Telengana', 'Jharkhand', 'Gujarat', 'Delhi', 'Kashmir', 'Uttar pradesh', 'Kashmir', 'Uttar pradesh', ['Kashmir', 'Uttar pradesh'], 'Kashmir', 'Uttar pradesh']\n"
     ]
    }
   ],
   "source": [
    "si.pop(2)\n",
    "print(si)"
   ]
  },
  {
   "cell_type": "code",
   "execution_count": 25,
   "metadata": {},
   "outputs": [
    {
     "name": "stdout",
     "output_type": "stream",
     "text": [
      "['Telengana', 'Tamil nadu', 'Kerala', 'Maharastra', 'Gujarat', 'Delhi', 'Telengana']\n"
     ]
    }
   ],
   "source": [
    "si .count('Telengana')\n",
    "print(si)"
   ]
  },
  {
   "cell_type": "code",
   "execution_count": 27,
   "metadata": {},
   "outputs": [
    {
     "data": {
      "text/plain": [
       "7"
      ]
     },
     "execution_count": 27,
     "metadata": {},
     "output_type": "execute_result"
    }
   ],
   "source": [
    "si.index('Kashmir')"
   ]
  },
  {
   "cell_type": "code",
   "execution_count": 39,
   "metadata": {},
   "outputs": [
    {
     "name": "stdout",
     "output_type": "stream",
     "text": [
      "['Andhra', 'Delhi', 'Gujarat', 'Kashmir', 'Kerala', 'Maharastra', 'Tamil nadu', 'Telengana', 'Telengana']\n"
     ]
    }
   ],
   "source": [
    "si.sort()\n",
    "print(si)"
   ]
  },
  {
   "cell_type": "code",
   "execution_count": 42,
   "metadata": {},
   "outputs": [
    {
     "name": "stdout",
     "output_type": "stream",
     "text": [
      "['Telengana', 'Telengana', 'Tamil nadu', 'Maharastra', 'Kerala', 'Kashmir', 'Gujarat', 'Delhi', 'Andhra']\n"
     ]
    }
   ],
   "source": [
    "si.reverse()\n",
    "print(si)"
   ]
  },
  {
   "cell_type": "code",
   "execution_count": 38,
   "metadata": {},
   "outputs": [
    {
     "name": "stdout",
     "output_type": "stream",
     "text": [
      "['Telengana', 'Tamil nadu', 'Kerala', 'Maharastra', 'Gujarat', 'Delhi', 'Telengana', 'Kashmir', 'Andhra']\n"
     ]
    }
   ],
   "source": [
    "print(si)"
   ]
  },
  {
   "cell_type": "code",
   "execution_count": 4,
   "metadata": {},
   "outputs": [
    {
     "name": "stdout",
     "output_type": "stream",
     "text": [
      "Give me everybody's names, separated by a space. akshith Ashwath shivani\n",
      "shivani needs to pay the entire bill\n"
     ]
    }
   ],
   "source": [
    "names_string = input(\"Give me everybody's names, separated by a space. \")\n",
    "import random\n",
    "names = names_string.split( )\n",
    "\n",
    "length = len(names)\n",
    "person = random.randint(0,length-1)\n",
    "unlucky = names[person]\n",
    "print(f'{unlucky} needs to pay the entire bill')\n",
    "\n",
    "\n"
   ]
  },
  {
   "cell_type": "code",
   "execution_count": 26,
   "metadata": {},
   "outputs": [
    {
     "name": "stdout",
     "output_type": "stream",
     "text": [
      "Where do you want to put the treasure? 23\n",
      "3 2\n",
      "[['⬜️', '⬜️', '⬜️'], ['⬜️', '⬜️', '⬜️'], ['⬜️', 'x', '⬜️']]\n"
     ]
    }
   ],
   "source": [
    "row1 = [\"⬜️\",\"⬜️\",\"⬜️\"]\n",
    "row2 = [\"⬜️\",\"⬜️\",\"⬜️\"]\n",
    "row3 = [\"⬜️\",\"⬜️\",\"⬜️\"]\n",
    "map = [row1, row2, row3]\n",
    "d = (f\"{row1}\\n{row2}\\n{row3}\")\n",
    "position = int(input(\"Where do you want to put the treasure? \"))\n",
    "row = position % 10 \n",
    "coloumn = position//10 \n",
    "print(row,coloumn)\n",
    "map[row-1][coloumn-1] = 'x'\n",
    "(f\"{row1}\\n{row2}\\n{row3}\")\n",
    "\n",
    "\n",
    "print(map)"
   ]
  },
  {
   "cell_type": "code",
   "execution_count": 20,
   "metadata": {},
   "outputs": [
    {
     "name": "stdout",
     "output_type": "stream",
     "text": [
      "please type 1 rock, 2 for paper, 3 for scicssors: 2\n",
      "draw\n",
      "\n",
      "    _______\n",
      "---'   ____)____\n",
      "          ______)\n",
      "          _______)\n",
      "         _______)\n",
      "---.__________)\n",
      "\n",
      "bot kept paper\n",
      "\n",
      "    _______\n",
      "---'   ____)____\n",
      "          ______)\n",
      "          _______)\n",
      "         _______)\n",
      "---.__________)\n",
      "\n",
      "you kept paper\n"
     ]
    }
   ],
   "source": [
    "user =  int(input('please type 1 rock, 2 for paper, 3 for scicssors: '))\n",
    "bot = random.randint(1,3)\n",
    "\n",
    "if bot == 1 and user == 1:\n",
    "    print('draw')\n",
    "elif bot == 1 and user == 2:\n",
    "    print('you win')\n",
    "elif bot == 1 and user == 3:\n",
    "    print('you lose')\n",
    "    \n",
    "elif bot == 2 and user == 1:\n",
    "    print('you lose')\n",
    "elif bot == 2 and user == 2:\n",
    "    print('draw')\n",
    "elif bot == 2 and user == 3:\n",
    "    print('you win')\n",
    "    \n",
    "elif bot == 3 and user == 1:\n",
    "    print('you win')\n",
    "elif bot == 3 and user == 2:\n",
    "    print('you lose')\n",
    "elif bot == 3 and user == 3:\n",
    "    print('draw')\n",
    "    \n",
    "    \n",
    "    \n",
    "rock = '''\n",
    "    _______\n",
    "---'   ____)\n",
    "      (_____)\n",
    "      (_____)\n",
    "      (____)\n",
    "---.__(___)\n",
    "'''\n",
    "\n",
    "paper = '''\n",
    "    _______\n",
    "---'   ____)____\n",
    "          ______)\n",
    "          _______)\n",
    "         _______)\n",
    "---.__________)\n",
    "'''\n",
    "\n",
    "scissors = '''\n",
    "    _______\n",
    "---'   ____)____\n",
    "          ______)\n",
    "       __________)\n",
    "      (____)\n",
    "---.__(___)\n",
    "'''\n",
    "\n",
    "\n",
    "\n",
    "if bot == 1:\n",
    "    print(rock)\n",
    "    bot = 'rock'\n",
    "elif bot == 2:\n",
    "    print(paper) \n",
    "    bot = 'paper'\n",
    "else:\n",
    "    print(scissors)\n",
    "    bot = 'scissors'\n",
    "print(f'bot kept {bot}')\n",
    "\n",
    "if user == 1:\n",
    "    print(rock)\n",
    "    user = 'rock'\n",
    "elif user == 2:\n",
    "    print(paper) \n",
    "    user = 'paper'\n",
    "else:\n",
    "    print(scissors)\n",
    "    user = 'scissors'\n",
    "print(f'you kept {user}')\n",
    "\n",
    "\n",
    "\n",
    "\n",
    "\n",
    "\n",
    "\n",
    "\n",
    "\n",
    "    "
   ]
  },
  {
   "cell_type": "code",
   "execution_count": 9,
   "metadata": {},
   "outputs": [
    {
     "name": "stdout",
     "output_type": "stream",
     "text": [
      "\n",
      "    _______\n",
      "---'   ____)\n",
      "      (_____)\n",
      "      (_____)\n",
      "      (____)\n",
      "---.__(___)\n",
      "\n"
     ]
    }
   ],
   "source": [
    "rock = '''\n",
    "    _______\n",
    "---'   ____)\n",
    "      (_____)\n",
    "      (_____)\n",
    "      (____)\n",
    "---.__(___)\n",
    "'''\n",
    "print(rock)"
   ]
  },
  {
   "cell_type": "code",
   "execution_count": null,
   "metadata": {},
   "outputs": [],
   "source": []
  }
 ],
 "metadata": {
  "kernelspec": {
   "display_name": "Python 3",
   "language": "python",
   "name": "python3"
  },
  "language_info": {
   "codemirror_mode": {
    "name": "ipython",
    "version": 3
   },
   "file_extension": ".py",
   "mimetype": "text/x-python",
   "name": "python",
   "nbconvert_exporter": "python",
   "pygments_lexer": "ipython3",
   "version": "3.7.6"
  }
 },
 "nbformat": 4,
 "nbformat_minor": 4
}
