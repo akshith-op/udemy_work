{
 "cells": [
  {
   "cell_type": "code",
   "execution_count": null,
   "metadata": {},
   "outputs": [],
   "source": [
    "enimies = 0\n",
    "def increase():\n",
    "    global enimies\n",
    "    enimies='alshith'\n",
    "    print('these are the numbers'+ \" \"+ enimies)\n",
    "increase()\n",
    "    "
   ]
  },
  {
   "cell_type": "code",
   "execution_count": null,
   "metadata": {},
   "outputs": [],
   "source": [
    "i = 50\n",
    "def foo():\n",
    "    i = 100\n",
    "    return i\n",
    " \n",
    "foo()\n",
    "print(i)"
   ]
  },
  {
   "cell_type": "code",
   "execution_count": 1,
   "metadata": {},
   "outputs": [
    {
     "name": "stdout",
     "output_type": "stream",
     "text": [
      "\n",
      "  / _ \\_   _  ___  ___ ___  /__   \\ |__   ___    /\\ \\ \\_   _ _ __ ___ | |__   ___ _ __ \n",
      " / /_\\/ | | |/ _ \\/ __/ __|   / /\\/ '_ \\ / _ \\  /  \\/ / | | | '_ ` _ \\| '_ \\ / _ \\ '__|\n",
      "/ /_\\| |_| |  __/\\__ \\__ \\  / /  | | | |  __/ / /\\  /| |_| | | | | | | |_) |  __/ |   \n",
      "\\____/ \\__,_|\\___||___/___/  \\/   |_| |_|\\___| \\_\\ \\/  \\__,_|_| |_| |_|_.__/ \\___|_|  \n",
      "\n",
      "Choose a difficulty. Type 'easy' or 'hard': hard\n",
      "Make a guess: 6\n",
      "Too Low\n",
      "You have 4 attempts remaining to guess the number.\n",
      "Guess again.\n",
      "Make a guess: 6\n",
      "Too Low\n",
      "You have 3 attempts remaining to guess the number.\n",
      "Guess again.\n",
      "Make a guess: 6\n",
      "Too Low\n",
      "You have 2 attempts remaining to guess the number.\n",
      "Guess again.\n",
      "Make a guess: 6\n",
      "Too Low\n",
      "You have 1 attempts remaining to guess the number.\n",
      "Guess again.\n",
      "Make a guess: 6\n",
      "Too Low\n",
      "You've run out of guesses, you lose. The number is 99\n",
      "Too Low\n"
     ]
    }
   ],
   "source": [
    "import random\n",
    "logo = \"\"\"\n",
    "  / _ \\_   _  ___  ___ ___  /__   \\ |__   ___    /\\ \\ \\_   _ _ __ ___ | |__   ___ _ __ \n",
    " / /_\\/ | | |/ _ \\/ __/ __|   / /\\/ '_ \\ / _ \\  /  \\/ / | | | '_ ` _ \\| '_ \\ / _ \\ '__|\n",
    "/ /_\\\\| |_| |  __/\\__ \\__ \\  / /  | | | |  __/ / /\\  /| |_| | | | | | | |_) |  __/ |   \n",
    "\\____/ \\__,_|\\___||___/___/  \\/   |_| |_|\\___| \\_\\ \\/  \\__,_|_| |_| |_|_.__/ \\___|_|  \n",
    "\"\"\"\n",
    "print(logo)\n",
    "number = random.randint(1,101)\n",
    "EASY_LEVEL_TURNS = 10\n",
    "HARD_LEVEL_TURNS = 5\n",
    "def difficulty():\n",
    "    level = str(input(\"Choose a difficulty. Type 'easy' or 'hard': \")) \n",
    "    if level == 'easy':\n",
    "        return EASY_LEVEL_TURNS \n",
    "    elif level == 'hard':\n",
    "        return HARD_LEVEL_TURNS\n",
    "\n",
    "        \n",
    "def compare(guess,number,turn):\n",
    "    if guess == number:\n",
    "        print(f\"You got it! The answer was {number}.\")\n",
    "    elif guess > number:\n",
    "        print(\"Too High\")\n",
    "        return turn-1\n",
    "    else:\n",
    "        print(\"Too Low\")\n",
    "        return turn-1\n",
    "    \n",
    "turn = difficulty()\n",
    "loop = True\n",
    "while loop == True:\n",
    "    guess = float(input(\"Make a guess: \"))\n",
    "    turn = compare(guess,number,turn)\n",
    "    if turn == 0:\n",
    "        print(f\"You've run out of guesses, you lose. The number is {number}\")\n",
    "        break\n",
    "    elif turn == None:\n",
    "        break\n",
    "    elif guess != number:\n",
    "        print(f\"You have {turn} attempts remaining to guess the number.\")\n",
    "        print(\"Guess again.\")\n",
    "        \n",
    "    \n",
    "turn = compare(guess,number,turn)\n",
    "\n"
   ]
  },
  {
   "cell_type": "code",
   "execution_count": null,
   "metadata": {},
   "outputs": [],
   "source": []
  }
 ],
 "metadata": {
  "kernelspec": {
   "display_name": "Python 3",
   "language": "python",
   "name": "python3"
  },
  "language_info": {
   "codemirror_mode": {
    "name": "ipython",
    "version": 3
   },
   "file_extension": ".py",
   "mimetype": "text/x-python",
   "name": "python",
   "nbconvert_exporter": "python",
   "pygments_lexer": "ipython3",
   "version": "3.7.6"
  },
  "metadata": {
   "interpreter": {
    "hash": "aee8b7b246df8f9039afb4144a1f6fd8d2ca17a180786b69acc140d282b71a49"
   }
  }
 },
 "nbformat": 4,
 "nbformat_minor": 4
}
