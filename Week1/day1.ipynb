{
 "cells": [
  {
   "cell_type": "code",
   "execution_count": 1,
   "metadata": {},
   "outputs": [
    {
     "name": "stdout",
     "output_type": "stream",
     "text": [
      "print('what to print')\n",
      "\n",
      "python print function\n",
      "\n",
      "The function is declared like this:\n"
     ]
    }
   ],
   "source": [
    "print(\"print('what to print')\")\n",
    "print()\n",
    "print('python print function')\n",
    "print()\n",
    "print('The function is declared like this:')"
   ]
  },
  {
   "cell_type": "code",
   "execution_count": 2,
   "metadata": {},
   "outputs": [
    {
     "name": "stdout",
     "output_type": "stream",
     "text": [
      "hello world\n",
      "hello world\n"
     ]
    }
   ],
   "source": [
    "print('hello world\\nhello world')"
   ]
  },
  {
   "cell_type": "code",
   "execution_count": 2,
   "metadata": {},
   "outputs": [
    {
     "name": "stdout",
     "output_type": "stream",
     "text": [
      "hello angela\n"
     ]
    }
   ],
   "source": [
    "print('hello'+' angela')"
   ]
  },
  {
   "cell_type": "code",
   "execution_count": 4,
   "metadata": {},
   "outputs": [
    {
     "name": "stdout",
     "output_type": "stream",
     "text": [
      "Day 1 - String Manipulation\n",
      "String Concatenation is done with thesign.\n",
      "e.g. print(\"Hello \" + \"world\")\n",
      "New lines can be created with a backslash and n.\n"
     ]
    }
   ],
   "source": [
    "#Fix the code below 👇\n",
    "\n",
    "print(\"Day 1 - String Manipulation\")\n",
    "print(\"String Concatenation is done with the\"\n",
    "+\"sign.\")\n",
    "print('e.g. print(\"Hello \" + \"world\")')\n",
    "print((\"New lines can be created with a backslash and n.\"))"
   ]
  },
  {
   "cell_type": "code",
   "execution_count": 5,
   "metadata": {},
   "outputs": [],
   "source": [
    "a = input('What is your name ')\n",
    "print(a+' hello')"
   ]
  },
  {
   "cell_type": "code",
   "execution_count": 3,
   "metadata": {},
   "outputs": [
    {
     "name": "stdout",
     "output_type": "stream",
     "text": [
      "Akshith\n",
      "Akshith\n",
      "Akshith\n",
      "Akshith\n",
      "Akshith\n",
      "Akshith\n",
      "Akshith\n",
      "Akshith\n",
      "Akshith\n",
      "Akshith\n",
      "Akshith\n",
      "Akshith\n",
      "Akshith\n",
      "Akshith\n",
      "Akshith\n",
      "Akshith\n",
      "Akshith\n",
      "Akshith\n",
      "Akshith\n",
      "Akshith\n",
      "Akshith\n",
      "Akshith\n",
      "Akshith\n",
      "Akshith\n",
      "Akshith\n",
      "Akshith\n",
      "Akshith\n",
      "Akshith\n",
      "Akshith\n",
      "Akshith\n",
      "Akshith\n",
      "Akshith\n",
      "Akshith\n",
      "Akshith\n",
      "Akshith\n",
      "Akshith\n",
      "Akshith\n",
      "Akshith\n",
      "Akshith\n",
      "Akshith\n",
      "Akshith\n",
      "Akshith\n",
      "Akshith\n",
      "Akshith\n",
      "Akshith\n",
      "Akshith\n",
      "Akshith\n",
      "Akshith\n",
      "Akshith\n",
      "Akshith\n",
      "Akshith\n",
      "Akshith\n",
      "Akshith\n",
      "Akshith\n",
      "Akshith\n",
      "Akshith\n",
      "Akshith\n",
      "Akshith\n",
      "Akshith\n",
      "Akshith\n",
      "Akshith\n",
      "Akshith\n",
      "Akshith\n",
      "Akshith\n",
      "Akshith\n",
      "Akshith\n",
      "Akshith\n",
      "Akshith\n",
      "Akshith\n",
      "Akshith\n",
      "Akshith\n",
      "Akshith\n",
      "Akshith\n",
      "Akshith\n",
      "Akshith\n",
      "Akshith\n",
      "Akshith\n",
      "Akshith\n",
      "Akshith\n",
      "Akshith\n",
      "Akshith\n",
      "Akshith\n",
      "Akshith\n",
      "Akshith\n",
      "Akshith\n",
      "Akshith\n",
      "Akshith\n",
      "Akshith\n",
      "Akshith\n",
      "Akshith\n",
      "Akshith\n",
      "Akshith\n",
      "Akshith\n",
      "Akshith\n",
      "Akshith\n",
      "Akshith\n",
      "Akshith\n",
      "Akshith\n",
      "Akshith\n",
      "Akshith\n",
      "Akshith\n"
     ]
    }
   ],
   "source": [
    "A=input('')\n",
    "i=0\n",
    "\n",
    "while i != 100:\n",
    "    \n",
    "    print(A)\n",
    "    i+=1\n",
    "    "
   ]
  },
  {
   "cell_type": "code",
   "execution_count": 9,
   "metadata": {},
   "outputs": [
    {
     "name": "stdout",
     "output_type": "stream",
     "text": [
      "please enter your phone number: 084590435843\n",
      "please enter your name: s\n",
      "s:084590435843\n"
     ]
    }
   ],
   "source": [
    "a = input('please enter your phone number: ')\n",
    "b = input('please enter your name: ')\n",
    "\n",
    "if len(a) < 10:\n",
    "    \n",
    "    print('the number is invalid')\n",
    "else:\n",
    "    print(b+':'+a)"
   ]
  },
  {
   "cell_type": "code",
   "execution_count": 5,
   "metadata": {},
   "outputs": [
    {
     "name": "stdout",
     "output_type": "stream",
     "text": [
      "value of a:6\n",
      "value of b:3\n",
      "a:3\n",
      "b:6\n"
     ]
    }
   ],
   "source": [
    "a = input('value of a:')\n",
    "b = input('value of b:')\n",
    "a,b=b,a\n",
    "print('a:'+a)\n",
    "print('b:'+b)\n"
   ]
  },
  {
   "cell_type": "code",
   "execution_count": 4,
   "metadata": {},
   "outputs": [],
   "source": [
    "iwo = 65.65754765"
   ]
  },
  {
   "cell_type": "code",
   "execution_count": 5,
   "metadata": {},
   "outputs": [
    {
     "name": "stdout",
     "output_type": "stream",
     "text": [
      "65.65754765\n"
     ]
    }
   ],
   "source": [
    "print(iwo)"
   ]
  },
  {
   "cell_type": "code",
   "execution_count": null,
   "metadata": {},
   "outputs": [],
   "source": [
    "MENU = {\n",
    "    \"espresso\": {\n",
    "        \"ingredients\": {\n",
    "            \"water\": 50,\n",
    "            \"coffee\": 18,\n",
    "        },\n",
    "        \"cost\": 1.5,\n",
    "    },\n",
    "    \"latte\": {\n",
    "        \"ingredients\": {\n",
    "            \"water\": 200,\n",
    "            \"milk\": 150,\n",
    "            \"coffee\": 24,\n",
    "        },\n",
    "        \"cost\": 2.5,\n",
    "    },\n",
    "    \"cappuccino\": {\n",
    "        \"ingredients\": {\n",
    "            \"water\": 2500,\n",
    "            \"milk\": 100,\n",
    "            \"coffee\": 24,\n",
    "        },\n",
    "        \"cost\": 3.0,\n",
    "    },\n",
    "}\n",
    "\n",
    "profit = 0\n",
    "resources = {\n",
    "    \"water\": 300,\n",
    "    \"milk\": 200,\n",
    "    \"coffee\": 100,\n",
    "}\n",
    "\n",
    "\n",
    "def coffee_bill(order):\n",
    "    for i in MENU:\n",
    "        if i == order:\n",
    "            a = MENU[i]\n",
    "    return a[\"cost\"]\n",
    "\n",
    "\n",
    "def report(order):\n",
    "    for i in MENU:\n",
    "        if i == order:\n",
    "            a = MENU[i]\n",
    "    water = resources[\"water\"]\n",
    "    milk = resources[\"milk\"]\n",
    "    coffe = resources[\"coffee\"]\n",
    "\n",
    "    order_water = a[\"ingredients\"][\"water\"]\n",
    "    order_milk = a[\"ingredients\"][\"milk\"]\n",
    "    order_coffee = a[\"ingredients\"][\"coffee\"]\n",
    "\n",
    "    resources[\"water\"] -= order_water\n",
    "    resources[\"milk\"] -= order_milk\n",
    "    resources[\"coffee\"] -= order_coffee\n",
    "    print(\n",
    "        f\"Water: {resources['water']}\\nMilk: {resources['milk']}\\nCoffee: {resources['coffee']}\"\n",
    "    )\n",
    "\n",
    "\n",
    "\n",
    "\n",
    "def total_money(quarters_input, dimes_input, nickles_input, pennies_input):\n",
    "    dimes = 0.10\n",
    "    quarters = 0.25\n",
    "    nickles = 0.05\n",
    "    pennies = 0.01\n",
    "    total_bill = (\n",
    "        quarters_input * quarters\n",
    "        + dimes * dimes_input\n",
    "        + nickles * nickles_input\n",
    "        + pennies * pennies_input\n",
    "    )\n",
    "    return total_bill\n",
    "def resources_check(coffee):\n",
    "    for i in MENU:\n",
    "        if i == coffee:\n",
    "            for x in coffee:\n",
    "                for idx in resources:\n",
    "                    if resources[idx] < coffee[x]:\n",
    "                        print('no sufficient resources')\n",
    "\n",
    "of = False\n",
    "while of == False :\n",
    "    coffee = input(\"What coffee would you like: \")\n",
    "    resources(coffee)\n",
    "    quarters_input = int(input(\"how many quarters?: \"))\n",
    "    dimes_input = int(input(\"how many dimes: \"))\n",
    "    nickles_input = int(input(\"how many nickles: \"))\n",
    "    pennies_input = int(input(\"how many pennies: \"))\n",
    "    total_money = total_money(quarters_input, dimes_input, nickles_input, pennies_input)\n",
    "    actual_bill = coffee_bill(coffee)   \n",
    "    if total_money < actual_bill:\n",
    "        print(\"Sorry that's not enough money. Money refunded.\")\n",
    "    elif coffee == \"report\":\n",
    "        resources = report(coffee)\n",
    "        print(resources)\n",
    "\n",
    "    else:\n",
    "        total_bill = total_money - actual_bill\n",
    "        print(f\"Here is ${total_bill} in change.\")\n",
    "\n",
    "    \n",
    "\n",
    "\n"
   ]
  },
  {
   "cell_type": "code",
   "execution_count": null,
   "metadata": {},
   "outputs": [],
   "source": []
  }
 ],
 "metadata": {
  "kernelspec": {
   "display_name": "Python 3",
   "language": "python",
   "name": "python3"
  },
  "language_info": {
   "codemirror_mode": {
    "name": "ipython",
    "version": 3
   },
   "file_extension": ".py",
   "mimetype": "text/x-python",
   "name": "python",
   "nbconvert_exporter": "python",
   "pygments_lexer": "ipython3",
   "version": "3.7.6"
  },
  "metadata": {
   "interpreter": {
    "hash": "aee8b7b246df8f9039afb4144a1f6fd8d2ca17a180786b69acc140d282b71a49"
   }
  }
 },
 "nbformat": 4,
 "nbformat_minor": 4
}
