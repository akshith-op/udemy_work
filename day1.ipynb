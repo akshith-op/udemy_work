{
 "cells": [
  {
   "cell_type": "code",
   "execution_count": 1,
   "metadata": {},
   "outputs": [
    {
     "output_type": "stream",
     "name": "stdout",
     "text": [
      "print('what to print')\n\npython print function\n\nThe function is declared like this:\n"
     ]
    }
   ],
   "source": [
    "print(\"print('what to print')\")\n",
    "print()\n",
    "print('python print function')\n",
    "print()\n",
    "print('The function is declared like this:')"
   ]
  },
  {
   "cell_type": "code",
   "execution_count": 2,
   "metadata": {},
   "outputs": [
    {
     "output_type": "stream",
     "name": "stdout",
     "text": [
      "hello world\n",
      "hello world\n"
     ]
    }
   ],
   "source": [
    "print('hello world\\nhello world')"
   ]
  },
  {
   "cell_type": "code",
   "execution_count": 2,
   "metadata": {},
   "outputs": [
    {
     "output_type": "stream",
     "name": "stdout",
     "text": [
      "hello angela\n"
     ]
    }
   ],
   "source": [
    "print('hello'+' angela')"
   ]
  },
  {
   "cell_type": "code",
   "execution_count": 4,
   "metadata": {},
   "outputs": [
    {
     "output_type": "stream",
     "name": "stdout",
     "text": [
      "Day 1 - String Manipulation\n",
      "String Concatenation is done with thesign.\n",
      "e.g. print(\"Hello \" + \"world\")\n",
      "New lines can be created with a backslash and n.\n"
     ]
    }
   ],
   "source": [
    "#Fix the code below 👇\n",
    "\n",
    "print(\"Day 1 - String Manipulation\")\n",
    "print(\"String Concatenation is done with the\"\n",
    "+\"sign.\")\n",
    "print('e.g. print(\"Hello \" + \"world\")')\n",
    "print((\"New lines can be created with a backslash and n.\"))"
   ]
  },
  {
   "cell_type": "code",
   "execution_count": 5,
   "metadata": {},
   "outputs": [],
   "source": [
    "a = input('What is your name ')\n",
    "print(a+' hello')"
   ]
  },
  {
   "cell_type": "code",
   "execution_count": 3,
   "metadata": {},
   "outputs": [
    {
     "name": "stdout",
     "output_type": "stream",
     "text": [
      "Akshith\n",
      "Akshith\n",
      "Akshith\n",
      "Akshith\n",
      "Akshith\n",
      "Akshith\n",
      "Akshith\n",
      "Akshith\n",
      "Akshith\n",
      "Akshith\n",
      "Akshith\n",
      "Akshith\n",
      "Akshith\n",
      "Akshith\n",
      "Akshith\n",
      "Akshith\n",
      "Akshith\n",
      "Akshith\n",
      "Akshith\n",
      "Akshith\n",
      "Akshith\n",
      "Akshith\n",
      "Akshith\n",
      "Akshith\n",
      "Akshith\n",
      "Akshith\n",
      "Akshith\n",
      "Akshith\n",
      "Akshith\n",
      "Akshith\n",
      "Akshith\n",
      "Akshith\n",
      "Akshith\n",
      "Akshith\n",
      "Akshith\n",
      "Akshith\n",
      "Akshith\n",
      "Akshith\n",
      "Akshith\n",
      "Akshith\n",
      "Akshith\n",
      "Akshith\n",
      "Akshith\n",
      "Akshith\n",
      "Akshith\n",
      "Akshith\n",
      "Akshith\n",
      "Akshith\n",
      "Akshith\n",
      "Akshith\n",
      "Akshith\n",
      "Akshith\n",
      "Akshith\n",
      "Akshith\n",
      "Akshith\n",
      "Akshith\n",
      "Akshith\n",
      "Akshith\n",
      "Akshith\n",
      "Akshith\n",
      "Akshith\n",
      "Akshith\n",
      "Akshith\n",
      "Akshith\n",
      "Akshith\n",
      "Akshith\n",
      "Akshith\n",
      "Akshith\n",
      "Akshith\n",
      "Akshith\n",
      "Akshith\n",
      "Akshith\n",
      "Akshith\n",
      "Akshith\n",
      "Akshith\n",
      "Akshith\n",
      "Akshith\n",
      "Akshith\n",
      "Akshith\n",
      "Akshith\n",
      "Akshith\n",
      "Akshith\n",
      "Akshith\n",
      "Akshith\n",
      "Akshith\n",
      "Akshith\n",
      "Akshith\n",
      "Akshith\n",
      "Akshith\n",
      "Akshith\n",
      "Akshith\n",
      "Akshith\n",
      "Akshith\n",
      "Akshith\n",
      "Akshith\n",
      "Akshith\n",
      "Akshith\n",
      "Akshith\n",
      "Akshith\n",
      "Akshith\n",
      "Akshith\n"
     ]
    }
   ],
   "source": [
    "A=input('')\n",
    "i=0\n",
    "\n",
    "while i != 100:\n",
    "    \n",
    "    print(A)\n",
    "    i+=1\n",
    "    "
   ]
  },
  {
   "cell_type": "code",
   "execution_count": 9,
   "metadata": {},
   "outputs": [
    {
     "name": "stdout",
     "output_type": "stream",
     "text": [
      "please enter your phone number: 084590435843\n",
      "please enter your name: s\n",
      "s:084590435843\n"
     ]
    }
   ],
   "source": [
    "a = input('please enter your phone number: ')\n",
    "b = input('please enter your name: ')\n",
    "\n",
    "if len(a) < 10:\n",
    "    \n",
    "    print('the number is invalid')\n",
    "else:\n",
    "    print(b+':'+a)"
   ]
  },
  {
   "cell_type": "code",
   "execution_count": 5,
   "metadata": {},
   "outputs": [
    {
     "name": "stdout",
     "output_type": "stream",
     "text": [
      "value of a:6\n",
      "value of b:3\n",
      "a:3\n",
      "b:6\n"
     ]
    }
   ],
   "source": [
    "a = input('value of a:')\n",
    "b = input('value of b:')\n",
    "a,b=b,a\n",
    "print('a:'+a)\n",
    "print('b:'+b)\n"
   ]
  },
  {
   "cell_type": "code",
   "execution_count": 4,
   "metadata": {},
   "outputs": [],
   "source": [
    "iwo = 65.65754765"
   ]
  },
  {
   "cell_type": "code",
   "execution_count": 5,
   "metadata": {},
   "outputs": [
    {
     "output_type": "stream",
     "name": "stdout",
     "text": [
      "65.65754765\n"
     ]
    }
   ],
   "source": [
    "print(iwo)"
   ]
  },
  {
   "cell_type": "code",
   "execution_count": null,
   "metadata": {},
   "outputs": [],
   "source": []
  }
 ],
 "metadata": {
  "kernelspec": {
   "name": "python383jvsc74a57bd0aee8b7b246df8f9039afb4144a1f6fd8d2ca17a180786b69acc140d282b71a49",
   "display_name": "Python 3.8.3 64-bit"
  },
  "language_info": {
   "codemirror_mode": {
    "name": "ipython",
    "version": 3
   },
   "file_extension": ".py",
   "mimetype": "text/x-python",
   "name": "python",
   "nbconvert_exporter": "python",
   "pygments_lexer": "ipython3",
   "version": "3.8.3"
  },
  "metadata": {
   "interpreter": {
    "hash": "aee8b7b246df8f9039afb4144a1f6fd8d2ca17a180786b69acc140d282b71a49"
   }
  }
 },
 "nbformat": 4,
 "nbformat_minor": 4
}